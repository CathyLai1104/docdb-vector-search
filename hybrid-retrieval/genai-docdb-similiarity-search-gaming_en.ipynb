{
 "cells": [
  {
   "cell_type": "markdown",
   "id": "c01cb58e",
   "metadata": {},
   "source": [
    "# Building AI-powered search in Amazon DocumentDB Vector Search using Amazon Bedrock and DocumentDB Vector Search\n",
    "_**Using Bedrock Titan embedding model and DocumentDB `Vector Search` for similarity search on Game recommendations**_\n",
    "\n",
    "---\n",
    "\n",
    "---\n",
    "\n",
    "## Contents\n",
    "\n",
    "\n",
    "1. [Background](#Background)\n",
    "1. [Setup](#Setup)\n",
    "1. [Bedrock Model Call Preparation](#Bedrock-model-call-prepration)\n",
    "1. [DocumentDB](#DocumentDB-vector-text-search)\n",
    "1. [Evaluate Search Results](#Evaluate-DocumentDB-vector-Search-text-Results)\n",
    "\n",
    "## Background\n",
    "\n",
    "In this notebook, we'll build the core components of a textually similar Products. Often people don't know what exactly they are looking for and in that case they just type an item description and hope it will retrieve similar items.\n",
    "\n",
    "One of the core components of searching textually similar items is a fixed length sentence/word embedding i.e. a  “feature vector” that corresponds to that text. The reference word/sentence embedding typically are generated offline and must be stored so they can be efficiently searched. In this use case we are using Amazon Bedrock Titan(https://aws.amazon.com/cn/bedrock/titan/).\n",
    "\n",
    "To enable efficient searches for textually similar items, we'll use Amazon Bedrock Titan to generate fixed length sentence embeddings i.e “feature vectors” and use the Nearest Neighbor search in Amazon DocumentDB (with MongoDB compatibility) using the Vector Search. DocumentDB Vector Search lets you store and search for points in vector space and find the \"nearest neighbors\" for those points. Use cases include recommendations (for example, an \"other songs you might like\" feature in a music application), image recognition, and fraud detection.\n"
   ]
  },
  {
   "cell_type": "markdown",
   "id": "d7045906",
   "metadata": {},
   "source": [
    "## Setup\n",
    "Install required python libraries for the workshop\n"
   ]
  },
  {
   "cell_type": "code",
   "execution_count": null,
   "id": "43a8a7e4-568a-4463-abce-638139b8c294",
   "metadata": {
    "tags": []
   },
   "outputs": [],
   "source": [
    "!pip install -U pymongo  tqdm boto3 requests scikit-image"
   ]
  },
  {
   "cell_type": "markdown",
   "id": "3283ad62",
   "metadata": {},
   "source": [
    "### Gaming demo data \n",
    "example: [\n",
    " {\"url\": \"game picture url\", \n",
    " \"name_en\": \"game name\",\n",
    " \"descriptions_en\": [\"Game Category:Free-to-Play;Hero Shooter;Multi Player;Shoote\",\n",
    "  \"Game Introduction: xxxxxx\", \n",
    " \"MATURE CONTENT DESCRIPTION: No violence or gore.\"], \n",
    " \"descriptions_en\":[\"Game genres: Free to Play;Battle Royale;Multiplayer;Shoote\",\n",
    "  \"Game Introduction: xxxxxx\",\n",
    "  \"MATURE CONTENT DESCRIPTION: No violence or gore.\"], \n",
    "  \"recommendation\": \"Mem: 8 GB RAM,DirectX Version: 11,Network: Broadband Internet Connectivity, Requirement: Need 35 GB available storage\"}\n",
    "]"
   ]
  },
  {
   "cell_type": "markdown",
   "id": "fd00c724",
   "metadata": {},
   "source": []
  },
  {
   "cell_type": "code",
   "execution_count": null,
   "id": "7395da9f-0561-4e34-9205-a1071d1561cf",
   "metadata": {
    "tags": []
   },
   "outputs": [],
   "source": [
    "import urllib.request\n",
    "import os\n",
    "import json\n",
    "import boto3\n",
    "from multiprocessing import cpu_count\n",
    "from tqdm.contrib.concurrent import process_map\n",
    "filename = 'metadata_en.json'\n",
    "\n",
    "with open(filename) as json_file:\n",
    "    results = json.load(json_file)\n",
    "if not os.path.exists(filename):\n",
    "   print (\"metadata_en.json file not exits\")\n",
    "results[0]\n",
    "print(results[0])"
   ]
  },
  {
   "cell_type": "markdown",
   "id": "5e60502e",
   "metadata": {},
   "source": [
    "## Bedrock Model Call Preparation\n",
    "prepare for Bedrock Titan model call"
   ]
  },
  {
   "cell_type": "code",
   "execution_count": null,
   "id": "fee2f4ef-841d-4f10-af88-dba06520caf1",
   "metadata": {
    "tags": []
   },
   "outputs": [],
   "source": [
    "# for bedrock model call\n",
    "%pip install langchain==0.0.305 --force-reinstall"
   ]
  },
  {
   "cell_type": "code",
   "execution_count": 4,
   "id": "f41d1d3c",
   "metadata": {
    "tags": []
   },
   "outputs": [],
   "source": [
    "#for bedrock model call\n",
    "import json\n",
    "import os\n",
    "import sys\n",
    "\n",
    "import boto3\n",
    "\n",
    "bedrock_client = boto3.client(\"bedrock-runtime\", region_name=\"us-east-1\")"
   ]
  },
  {
   "cell_type": "code",
   "execution_count": 5,
   "id": "e41c3fe2",
   "metadata": {
    "tags": []
   },
   "outputs": [],
   "source": [
    "# for bedrock model call\n",
    "from langchain.embeddings import BedrockEmbeddings\n",
    "\n",
    "bedrock_embeddings = BedrockEmbeddings(model_id=\"amazon.titan-embed-text-v1\",\n",
    "                                       client=bedrock_client)"
   ]
  },
  {
   "cell_type": "code",
   "execution_count": 41,
   "id": "f6b609a1-5562-4ea4-9822-23de43a7b131",
   "metadata": {
    "tags": []
   },
   "outputs": [],
   "source": [
    "# calculate your LLM(Claude3) execution time\n",
    "import time\n",
    "\n",
    "def timer_llm_claude3(prompt, if_print=1):\n",
    "    start_time = time.time()\n",
    "    body = json.dumps({\n",
    "      \"max_tokens\": 4096,\n",
    "      \"messages\": [{\"role\": \"user\", \"content\": prompt}],\n",
    "      \"anthropic_version\": \"bedrock-2023-05-31\"\n",
    "    })\n",
    "\n",
    "    response = bedrock_client.invoke_model(body=body, modelId=\"anthropic.claude-3-sonnet-20240229-v1:0\")\n",
    "\n",
    "    response_body = json.loads(response.get(\"body\").read())\n",
    "    end_time = time.time()\n",
    "    elapsed_time = end_time - start_time\n",
    "    if if_print == 1:\n",
    "        print(\"----------------------------------------- OutPut -----------------------------------------\")\n",
    "        print(\"Elapsed time: \", elapsed_time, \"seconds\")\n",
    "    return response_body.get(\"content\")[0]['text']"
   ]
  },
  {
   "cell_type": "code",
   "execution_count": 6,
   "id": "9ba6cf8c",
   "metadata": {
    "tags": []
   },
   "outputs": [],
   "source": [
    "# for Bedrock Embedding model call\n",
    "\n",
    "def generate_embeddings(data):\n",
    "    r = bedrock_embeddings.embed_query(data)\n",
    "    return r\n"
   ]
  },
  {
   "cell_type": "markdown",
   "id": "453e107d",
   "metadata": {},
   "source": [
    "## DocumentDB Vector and Text Search\n",
    "\n",
    "vector search for Amazon DocumentDB (with MongoDB compatibility), a new built-in capability that lets you store, index, and search millions of vectors with millisecond response times within your document database.\n",
    "\n",
    "One of the key benefits of using pgvector is that it allows you to perform similarity searches on large datasets quickly and efficiently. This is particularly useful in industries like e-commerce, where businesses need to be able to quickly search through large product catalogs to find the items that best match a customer's preferences. It supports exact and approximate nearest neighbor search, L2 distance, inner product, and cosine distance.\n",
    "\n",
    "To further optimize your searches, you can also use DocumentDB Vector Search's indexing features. By creating indexes on your vector data, you can speed up your searches and reduce the amount of time it takes to find the nearest neighbors to a given vector.\n",
    "\n",
    "As much, in this sesction, we would also create docDB Text Search index, we would do vector and text search simultaneously and combine docDB vector search and text search results as Two-way recall for Bedrock LLM input."
   ]
  },
  {
   "cell_type": "code",
   "execution_count": 47,
   "id": "7daae42f",
   "metadata": {
    "tags": []
   },
   "outputs": [],
   "source": [
    "# Set up a connection to your Amazon DocumentDB (MongoDB compatibility) cluster and creating the database\n",
    "import pymongo\n",
    "\n",
    "client = pymongo.MongoClient(\n",
    "\"docdb-vector-search-*******.com:27017\",\n",
    "username=\"masteruser\",\n",
    "password=\"******\",\n",
    "retryWrites=False,\n",
    "tls='true',\n",
    "tlsCAFile='global-bundle.pem')\n",
    "db = client.similarity\n",
    "collection = db.games"
   ]
  },
  {
   "cell_type": "code",
   "execution_count": null,
   "id": "bbdce09a-ac28-46b6-a2eb-b262fdadf057",
   "metadata": {
    "tags": []
   },
   "outputs": [],
   "source": [
    "import pymongo\n",
    "import boto3 \n",
    "import json \n",
    "\n",
    "\n",
    "for x in results:\n",
    "    description1 = ' '.join(x.get('descriptions_en', []))\n",
    "    vector = generate_embeddings(description1)\n",
    "    record = { \"name\": x.get('name'),\n",
    "               \"name_en\": x.get('name_en'),\n",
    "              \"descriptions\": description1,\n",
    "              \"descriptions_en\": ' '.join(x.get('descriptions_en', [])),\n",
    "              \"recommendation\":x.get('recommendation'),\n",
    "          \"url\": x.get('url'),\n",
    "          \"descriptions_embeddings\": vector}\n",
    "    # print(\"record\",record)\n",
    "    rec_id1 = collection.insert_one(record)  \n",
    "\n",
    "collection.create_index ([(\"descriptions_embeddings\",\"vector\")], vectorOptions={\n",
    "\"lists\": 1,\n",
    "\"similarity\": \"euclidean\",\n",
    "\"dimensions\": 1536}) \n",
    "\n",
    "#print (\"Vector embeddings has been successfully loaded into DocumentDB\") "
   ]
  },
  {
   "cell_type": "code",
   "execution_count": null,
   "id": "2af80e49-c4ad-46a1-babe-69c69ea31882",
   "metadata": {},
   "outputs": [],
   "source": [
    "#DocumentDB Text Search\n",
    "collection.create_index({\"descriptions_en\": \"text\"})"
   ]
  },
  {
   "cell_type": "markdown",
   "id": "a4a93851",
   "metadata": {},
   "source": [
    "## Evaluate DocumentDB vector Search Results\n",
    "\n",
    "In this step we will use Bedrock Titan to generate embeddings for the query and use the embeddings to search the DocumentDB to retrive the nearest neighbours and retrive the relevent product images.\n"
   ]
  },
  {
   "cell_type": "code",
   "execution_count": null,
   "id": "8aefb95e-35b2-451f-ad72-19726ef15fb9",
   "metadata": {},
   "outputs": [],
   "source": [
    "from skimage import io \n",
    "import matplotlib.pyplot as plt\n",
    "import requests\n",
    "from langchain.prompts import PromptTemplate\n",
    "\n",
    "multi_var_prompt = PromptTemplate(\n",
    "    input_variables=[\"instructions\"], \n",
    "    template=\"\"\"\n",
    "Human:\n",
    "You are an excellent game recommender and we need you to provide summaries and recommendations for games\n",
    "\n",
    "<Objective>\n",
    "- Please include the game titles and game categories in your summaries and recommendations\n",
    "- Please provide game descriptions and perform optimized summarization for them\n",
    "- Please specify the hardware configurations required to run the games\n",
    "- Evaluate the suitability of the games for underage players\n",
    "</Objective>\n",
    "\n",
    "<instructions>\n",
    "{instructions}\n",
    "</instructions>\n",
    "Your objective is to determine based on the goals specified in<Objective>, List the game titles, game categories, game descriptions, and user's system configurations specified in <instructions>, and determine whether each game is suitable for minors, no additional irrelevant text content is required\n",
    "\n",
    "Assistant:\"\"\"\n",
    ")\n",
    "\n",
    "\n",
    "def similarity_search(search_text):\n",
    "    en_response= timer_llm_claude3(\"You are a translator, translate the following into English, without any additional rhetoric, just translate. In the translated content, remove the word game：\"+search_text)\n",
    "    print(en_response)   \n",
    "    data = {\"inputs\": search_text}\n",
    "    res1 = generate_embeddings(data['inputs'])\n",
    "    #Vector Search （\n",
    "    query = {\"vectorSearch\" : {\"vector\" : res1, \"path\": \"descriptions_embeddings\", \"similarity\": \"euclidean\", \"k\": 2}}\n",
    "    projection = {\n",
    "    \"_id\":0,\n",
    "    \"name\":1,\n",
    "    \"name_en\":1,\n",
    "    \"recommendation\":1,\n",
    "    \"url\":1,\n",
    "    \"descriptions\":1,\n",
    "    \"descriptions_en\":1,\n",
    "    \"descriptions_embeddings\": 1}\n",
    "    r = collection.aggregate([{'$search': query},{\"$project\": projection}])\n",
    "    \n",
    "    #Text Search （\n",
    "    tsr = collection.find({\"$text\": {\"$search\": en_response}}, {\"score\": {\"$meta\": \"textScore\"}}).sort({\"score\": {\"$meta\": \"textScore\"}})\n",
    "\n",
    "    plt.rcParams[\"figure.figsize\"] = [7.50, 3.50]\n",
    "    plt.rcParams[\"figure.autolayout\"] = True\n",
    "    \n",
    "    # merge two-way recall result \n",
    "    merged_list = []\n",
    "    for doc in tsr:\n",
    "        merged_list.append(doc)\n",
    "        \n",
    "    for doc in r:\n",
    "        merged_list.append(doc)\n",
    "\n",
    "    unique_set = set() \n",
    "    result = []\n",
    "    for item in merged_list:\n",
    "        dict_str = str(item['name_en'])\n",
    "        if dict_str not in unique_set and len(result)<2:\n",
    "            unique_set.add(dict_str)\n",
    "            result.append(item)\n",
    "            \n",
    "    for x in result:\n",
    "        # Pass in values to the input variables\n",
    "        prompt = multi_var_prompt.format(instructions=\"game name:\"+x[\"name_en\"] + \".\\nGame Description:\" +x[\"descriptions_en\"] +\".\\nHardware configuration：\"+ x[\"recommendation\"])\n",
    "        response= timer_llm_claude3(prompt)\n",
    "        print(response)\n",
    "        url = x[\"url\"].split('?')[0]\n",
    "        urldata = requests.get(url).content\n",
    "        a = io.imread(url)\n",
    "        plt.imshow(a)\n",
    "        plt.axis('off')\n",
    "        plt.show()\n",
    "\n",
    "   "
   ]
  },
  {
   "cell_type": "markdown",
   "id": "680c31cf",
   "metadata": {},
   "source": [
    "Using the above function `similarity_search` , lets do some search"
   ]
  },
  {
   "cell_type": "code",
   "execution_count": null,
   "id": "3445405f-2ba3-44d0-b5bf-0bf053178acb",
   "metadata": {},
   "outputs": [],
   "source": [
    "similarity_search(\"Multiplayer Shooting Game\")"
   ]
  }
 ],
 "metadata": {
  "kernelspec": {
   "display_name": "conda_python3",
   "language": "python",
   "name": "conda_python3"
  },
  "language_info": {
   "codemirror_mode": {
    "name": "ipython",
    "version": 3
   },
   "file_extension": ".py",
   "mimetype": "text/x-python",
   "name": "python",
   "nbconvert_exporter": "python",
   "pygments_lexer": "ipython3",
   "version": "3.10.13"
  }
 },
 "nbformat": 4,
 "nbformat_minor": 5
}
